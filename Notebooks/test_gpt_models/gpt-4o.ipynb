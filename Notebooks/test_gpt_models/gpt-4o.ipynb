{
 "cells": [
  {
   "cell_type": "code",
   "execution_count": 1,
   "metadata": {},
   "outputs": [
    {
     "data": {
      "text/plain": [
       "True"
      ]
     },
     "execution_count": 1,
     "metadata": {},
     "output_type": "execute_result"
    }
   ],
   "source": [
    "import os\n",
    "from dotenv import load_dotenv\n",
    "import base64\n",
    "from openai import OpenAI\n",
    "load_dotenv()"
   ]
  },
  {
   "cell_type": "code",
   "execution_count": 8,
   "metadata": {},
   "outputs": [
    {
     "name": "stdout",
     "output_type": "stream",
     "text": [
      "(<class 'openai.OpenAI'>, <class 'openai._base_client.SyncAPIClient'>, <class 'openai._base_client.BaseClient'>, <class 'typing.Generic'>, <class 'object'>)\n"
     ]
    }
   ],
   "source": [
    "from openai import OpenAI\n",
    "\n",
    "print(OpenAI.__mro__)  # Method resolution order\n"
   ]
  },
  {
   "cell_type": "code",
   "execution_count": 2,
   "metadata": {},
   "outputs": [
    {
     "name": "stdout",
     "output_type": "stream",
     "text": [
      "The capital of France is **Paris**.\n"
     ]
    }
   ],
   "source": [
    "import os\n",
    "from dotenv import load_dotenv\n",
    "from openai import OpenAI\n",
    "import httpx\n",
    "\n",
    "load_dotenv()\n",
    "\n",
    "custom_http_client = httpx.Client()\n",
    "\n",
    "client = OpenAI(\n",
    "    base_url=\"https://models.github.ai/inference\",\n",
    "    api_key=os.getenv(\"OPEN_AI_API_KEY\"),\n",
    "    http_client=custom_http_client  # avoids passing proxies\n",
    ")\n",
    "\n",
    "model_name = \"openai/gpt-4o\"\n",
    "\n",
    "response = client.chat.completions.create(\n",
    "    model=model_name,\n",
    "    messages=[\n",
    "        {\"role\": \"system\", \"content\": \"You are a helpful assistant.\"},\n",
    "        {\"role\": \"user\", \"content\": \"What is the capital of France?\"}\n",
    "    ]\n",
    ")\n",
    "\n",
    "print(response.choices[0].message.content)"
   ]
  },
  {
   "cell_type": "code",
   "execution_count": 4,
   "metadata": {},
   "outputs": [],
   "source": [
    "# Function to perform text-based inference\n",
    "def text_inference(prompt:str)->str:\n",
    "    \"\"\"\n",
    "    Sends a text prompt to the AI model for inference and returns the model's response.\n",
    "\n",
    "    Args:\n",
    "        prompt (str): The text prompt or question to be sent to the AI model.\n",
    "\n",
    "    Returns:\n",
    "        str: The model's response based on the given text prompt.\n",
    "    \"\"\"\n",
    "    response = client.chat.completions.create(\n",
    "        model=model,\n",
    "        messages=[\n",
    "            {\"role\": \"system\", \"content\": \"You are a helpful assistant.\"},\n",
    "            {\"role\": \"user\", \"content\": prompt}\n",
    "        ]\n",
    "    )\n",
    "    return response.choices[0].message.content\n",
    "\n",
    "# Function to perform image-based inference\n",
    "def image_inference(image_path:str, prompt:str)->str:\n",
    "    \"\"\"\n",
    "    Sends a text prompt and an image to the AI model for inference, returning the model's response.\n",
    "\n",
    "    Args:\n",
    "        image_path (str): The file path to the image to be sent to the AI model.\n",
    "        prompt (str): The text prompt or question accompanying the image.\n",
    "\n",
    "    Returns:\n",
    "        str: The model's response based on the given text prompt and image.\n",
    "    \"\"\"\n",
    "    with open(image_path, \"rb\") as image_file:\n",
    "        base64_image = base64.b64encode(image_file.read()).decode('utf-8')\n",
    "    \n",
    "    response = client.chat.completions.create(\n",
    "        model=model,\n",
    "        messages=[\n",
    "            {\"role\": \"system\", \"content\": \"You are a helpful assistant.\"},\n",
    "            {\n",
    "                \"role\": \"user\",\n",
    "                \"content\": [\n",
    "                    {\"type\": \"text\", \"text\": prompt},\n",
    "                    {\"type\": \"image_url\", \"image_url\": {\"url\": f\"data:image/jpeg;base64,{base64_image}\"}}\n",
    "                ]\n",
    "            }\n",
    "        ]\n",
    "    )\n",
    "    return response.choices[0].message.content"
   ]
  },
  {
   "cell_type": "markdown",
   "metadata": {},
   "source": [
    "**Model input: Only text**"
   ]
  },
  {
   "cell_type": "code",
   "execution_count": 5,
   "metadata": {},
   "outputs": [
    {
     "name": "stdout",
     "output_type": "stream",
     "text": [
      "Hello! I'm here and ready to help you. How can I assist you today?\n"
     ]
    }
   ],
   "source": [
    "# Example usage\n",
    "text_prompt = \"\"\"Hello there. How are you today?\"\"\"\n",
    "print(text_inference(text_prompt))"
   ]
  },
  {
   "cell_type": "markdown",
   "metadata": {},
   "source": [
    "**Model input: Text and Image**"
   ]
  },
  {
   "cell_type": "code",
   "execution_count": 5,
   "metadata": {},
   "outputs": [
    {
     "name": "stdout",
     "output_type": "stream",
     "text": [
      "The image features a stack of ice cubes with a translucent, green hue. Each cube is glistening with water droplets that enhance their icy appearance. Surrounding the cubes are fresh green leaves, adding a natural touch to the composition. The background is a soft gradient of green, creating a refreshing and cool atmosphere. The overall effect is vibrant and inviting, evoking a sense of chill and freshness.\n"
     ]
    }
   ],
   "source": [
    "image_path = \"image.png\"\n",
    "image_prompt = \"You are an AI expert. Answer this question.\"\n",
    "print(image_inference(image_path, image_prompt))"
   ]
  }
 ],
 "metadata": {
  "kernelspec": {
   "display_name": "venv",
   "language": "python",
   "name": "python3"
  },
  "language_info": {
   "codemirror_mode": {
    "name": "ipython",
    "version": 3
   },
   "file_extension": ".py",
   "mimetype": "text/x-python",
   "name": "python",
   "nbconvert_exporter": "python",
   "pygments_lexer": "ipython3",
   "version": "3.10.0"
  }
 },
 "nbformat": 4,
 "nbformat_minor": 2
}

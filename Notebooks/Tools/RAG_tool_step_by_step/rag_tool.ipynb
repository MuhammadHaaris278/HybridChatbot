{
 "cells": [
  {
   "cell_type": "code",
   "execution_count": null,
   "metadata": {},
   "outputs": [],
   "source": [
    "from langchain_qdrant import Qdrant\n",
    "from qdrant_client import QdrantClient\n",
    "import os\n",
    "from pyprojroot import here\n",
    "from langchain_openai import OpenAIEmbeddings\n",
    "from openai import OpenAI\n",
    "from dotenv import load_dotenv\n",
    "from pprint import pprin\n",
    "import httpx\n",
    "load_dotenv()\n",
    "os.environ['OPENAI_API_KEY'] = os.getenv('GITHUB_TOKEN')"
   ]
  },
  {
   "cell_type": "markdown",
   "metadata": {},
   "source": [
    "**Load environment variables and configs**"
   ]
  },
  {
   "cell_type": "code",
   "execution_count": 2,
   "metadata": {},
   "outputs": [],
   "source": [
    "os.environ['OPENAI_API_KEY'] = os.getenv('GITHUB_TOKEN')\n",
    "\n",
    "EMBEDDING_MODEL = 'text-embedding-3-small'\n",
    "VECTORDB_DIR = 'data/clinical_notes_vectordb'\n",
    "QDRANT_URL = None  # Set to a URL for remote Qdrant, or None for local\n",
    "K = 2"
   ]
  },
  {
   "cell_type": "markdown",
   "metadata": {},
   "source": [
    "**Load the Qdrant vector database**"
   ]
  },
  {
   "cell_type": "code",
   "execution_count": 3,
   "metadata": {},
   "outputs": [
    {
     "name": "stdout",
     "output_type": "stream",
     "text": [
      "Number of vectors in Qdrant collection: 10 \n",
      "\n",
      "\n"
     ]
    },
    {
     "name": "stderr",
     "output_type": "stream",
     "text": [
      "C:\\Users\\dell\\AppData\\Local\\Temp\\ipykernel_18144\\2789469118.py:2: LangChainDeprecationWarning: The class `Qdrant` was deprecated in LangChain 0.1.2 and will be removed in 0.5.0. Use QdrantVectorStore instead.\n",
      "  vectordb = Qdrant(\n"
     ]
    }
   ],
   "source": [
    "client = QdrantClient(url=QDRANT_URL, path=str(here(VECTORDB_DIR)) if not QDRANT_URL else None)\n",
    "vectordb = Qdrant(\n",
    "    client=client,\n",
    "    collection_name='clinical-notes-qdrant',\n",
    "    embeddings=OpenAIEmbeddings(\n",
    "        model=EMBEDDING_MODEL,\n",
    "        base_url='https://models.github.ai/inference',\n",
    "        api_key=os.getenv('GITHUB_TOKEN')\n",
    "    )\n",
    ")\n",
    "print('Number of vectors in Qdrant collection:',\n",
    "      client.get_collection('clinical-notes-qdrant').points_count, '\\n\\n')"
   ]
  },
  {
   "cell_type": "markdown",
   "metadata": {},
   "source": [
    "**Sample Query**"
   ]
  },
  {
   "cell_type": "code",
   "execution_count": 8,
   "metadata": {},
   "outputs": [
    {
     "name": "stdout",
     "output_type": "stream",
     "text": [
      "c:\\Users\\dell\\Documents\\AgentGraph-Intelligent-Q&A-and-RAG-System\\Notebooks\\Tools\\RAG_tool_step_by_step\n",
      "['c:\\\\Users\\\\dell\\\\Documents\\\\AgentGraph-Intelligent-Q&A-and-RAG-System\\\\venv\\\\lib\\\\site-packages\\\\win32\\\\lib', 'c:\\\\Users\\\\dell\\\\Documents\\\\AgentGraph-Intelligent-Q&A-and-RAG-System\\\\venv\\\\lib\\\\site-packages\\\\Pythonwin', 'agent-graph', 'c:\\\\Users\\\\dell\\\\Documents\\\\AgentGraph-Intelligent-Q&A-and-RAG-System\\\\Notebooks\\\\Tools\\\\RAG_tool_step_by_step\\\\src', 'c:\\\\Users\\\\dell\\\\Documents\\\\AgentGraph-Intelligent-Q&A-and-RAG-System\\\\Notebooks\\\\Tools\\\\RAG_tool_step_by_step\\\\src']\n"
     ]
    }
   ],
   "source": [
    "import sys, os\n",
    "print(os.getcwd())   # current working directory\n",
    "print(sys.path[-5:]) # last few entries"
   ]
  },
  {
   "cell_type": "code",
   "execution_count": 9,
   "metadata": {},
   "outputs": [
    {
     "name": "stdout",
     "output_type": "stream",
     "text": [
      "Added path: c:\\Users\\dell\\Documents\\AgentGraph-Intelligent-Q&A-and-RAG-System\\Notebooks\\src\n"
     ]
    },
    {
     "ename": "ModuleNotFoundError",
     "evalue": "No module named 'agent_graph'",
     "output_type": "error",
     "traceback": [
      "\u001b[1;31m---------------------------------------------------------------------------\u001b[0m",
      "\u001b[1;31mModuleNotFoundError\u001b[0m                       Traceback (most recent call last)",
      "Cell \u001b[1;32mIn[9], line 11\u001b[0m\n\u001b[0;32m      7\u001b[0m sys\u001b[38;5;241m.\u001b[39mpath\u001b[38;5;241m.\u001b[39mappend(src_path)\n\u001b[0;32m      9\u001b[0m \u001b[38;5;28mprint\u001b[39m(\u001b[38;5;124m\"\u001b[39m\u001b[38;5;124mAdded path:\u001b[39m\u001b[38;5;124m\"\u001b[39m, src_path)\n\u001b[1;32m---> 11\u001b[0m \u001b[38;5;28;01mfrom\u001b[39;00m\u001b[38;5;250m \u001b[39m\u001b[38;5;21;01magent_graph\u001b[39;00m\u001b[38;5;21;01m.\u001b[39;00m\u001b[38;5;21;01mtool_clinical_notes_rag\u001b[39;00m\u001b[38;5;250m \u001b[39m\u001b[38;5;28;01mimport\u001b[39;00m lookup_clinical_notes\n",
      "\u001b[1;31mModuleNotFoundError\u001b[0m: No module named 'agent_graph'"
     ]
    }
   ],
   "source": [
    "import sys, os\n",
    "\n",
    "# Go two levels up from the notebook folder, then into src/\n",
    "project_root = os.path.abspath(os.path.join(os.getcwd(), \"..\", \"..\"))\n",
    "src_path = os.path.join(project_root, \"src\")\n",
    "\n",
    "sys.path.append(src_path)\n",
    "\n",
    "print(\"Added path:\", src_path)\n",
    "\n",
    "from agent_graph.tool_clinical_notes_rag import lookup_clinical_notes"
   ]
  }
 ],
 "metadata": {
  "kernelspec": {
   "display_name": "venv",
   "language": "python",
   "name": "python3"
  },
  "language_info": {
   "codemirror_mode": {
    "name": "ipython",
    "version": 3
   },
   "file_extension": ".py",
   "mimetype": "text/x-python",
   "name": "python",
   "nbconvert_exporter": "python",
   "pygments_lexer": "ipython3",
   "version": "3.10.0"
  }
 },
 "nbformat": 4,
 "nbformat_minor": 2
}

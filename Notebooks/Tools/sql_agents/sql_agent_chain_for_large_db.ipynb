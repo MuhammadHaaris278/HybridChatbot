{
 "cells": [
  {
   "cell_type": "code",
   "execution_count": null,
   "metadata": {},
   "outputs": [
    {
     "data": {
      "text/plain": [
       "True"
      ]
     },
     "execution_count": 13,
     "metadata": {},
     "output_type": "execute_result"
    }
   ],
   "source": [
    "import os\n",
    "from dotenv import load_dotenv\n",
    "from pyprojroot import here\n",
    "from typing import List\n",
    "from langchain_community.utilities import SQLDatabase\n",
    "from langchain_openai import ChatOpenAI\n",
    "from pprint import pprint\n",
    "import httpx\n",
    "\n",
    "load_dotenv()"
   ]
  },
  {
   "cell_type": "markdown",
   "metadata": {},
   "source": [
    "**Set the environment variables and load the LLM**"
   ]
  },
  {
   "cell_type": "code",
   "execution_count": null,
   "metadata": {},
   "outputs": [],
   "source": [
    "os.environ['OPENAI_API_KEY'] = os.getenv(\"OPEN_AI_API_KEY\")\n",
    "\n",
    "sql_agent_llm = ChatOpenAI(\n",
    "    model=\"openai/gpt-3.5-turbo\",\n",
    "    temperature=0,\n",
    "    base_url=\"https://models.github.ai/inference\",\n",
    "    api_key=os.getenv(\"OPEN_AI_API_KEY\")\n",
    ")\n",
    "table_extractor_llm = ChatOpenAI(\n",
    "    model=\"openai/gpt-4o-mini\",\n",
    "    temperature=0,\n",
    "    base_url=\"https://models.github.ai/inference\",\n",
    "    api_key=os.getenv(\"OPEN_AI_API_KEY\")\n",
    ")\n"
   ]
  },
  {
   "cell_type": "code",
   "execution_count": 15,
   "metadata": {},
   "outputs": [
    {
     "name": "stdout",
     "output_type": "stream",
     "text": [
      "sqlite\n",
      "['Album', 'Artist', 'Customer', 'Employee', 'Genre', 'Invoice', 'InvoiceLine', 'MediaType', 'Playlist', 'PlaylistTrack', 'Track']\n"
     ]
    },
    {
     "data": {
      "text/plain": [
       "\"[(1, 'AC/DC'), (2, 'Accept'), (3, 'Aerosmith'), (4, 'Alanis Morissette'), (5, 'Alice In Chains'), (6, 'Antônio Carlos Jobim'), (7, 'Apocalyptica'), (8, 'Audioslave'), (9, 'BackBeat'), (10, 'Billy Cobham')]\""
      ]
     },
     "execution_count": 15,
     "metadata": {},
     "output_type": "execute_result"
    }
   ],
   "source": [
    "sqldb_directory = here(\"data/Chinook.db\")\n",
    "db = SQLDatabase.from_uri(f\"sqlite:///{sqldb_directory}\")\n",
    "print(db.dialect)\n",
    "print(db.get_usable_table_names())\n",
    "db.run(\"SELECT * FROM Artist LIMIT 10;\")"
   ]
  },
  {
   "cell_type": "markdown",
   "metadata": {},
   "source": [
    "**Prepare the `Table` class**"
   ]
  },
  {
   "cell_type": "code",
   "execution_count": 16,
   "metadata": {},
   "outputs": [],
   "source": [
    "from langchain_core.pydantic_v1 import BaseModel, Field\n",
    "\n",
    "class Table(BaseModel):\n",
    "    \"\"\"\n",
    "    Represents a table in the SQL database.\n",
    "\n",
    "    Attributes:\n",
    "        name (str): The name of the table in the SQL database.\n",
    "    \"\"\"\n",
    "    name: str = Field(description=\"Name of table in SQL database.\")"
   ]
  },
  {
   "cell_type": "markdown",
   "metadata": {},
   "source": [
    "### **Strategy A:**"
   ]
  },
  {
   "cell_type": "code",
   "execution_count": null,
   "metadata": {},
   "outputs": [],
   "source": [
    "table_names = \"\\n\".join(db.get_usable_table_names())\n",
    "pprint(table_names)"
   ]
  },
  {
   "cell_type": "code",
   "execution_count": null,
   "metadata": {},
   "outputs": [],
   "source": [
    "from langchain.chains.openai_tools import create_extraction_chain_pydantic\n",
    "\n",
    "system = f\"\"\"Return the names of ALL the SQL tables that MIGHT be relevant to the user question. \\\n",
    "The tables are:\n",
    "\n",
    "{table_names}\n",
    "\n",
    "Remember to include ALL POTENTIALLY RELEVANT tables, even if you're not sure that they're needed.\"\"\"\n",
    "table_chain = create_extraction_chain_pydantic(pydantic_schemas=Table, llm=table_extractor_llm, system_message=system)\n",
    "table_chain.invoke({\"input\": \"What are all the genres of Alanis Morisette songs\"})"
   ]
  },
  {
   "cell_type": "markdown",
   "metadata": {},
   "source": [
    "### **Strategy B:**"
   ]
  },
  {
   "cell_type": "markdown",
   "metadata": {},
   "source": [
    "Music:\n",
    "\n",
    "- \"Album\"\n",
    "- \"Artist\"\n",
    "- \"Genre\"\n",
    "- \"MediaType\"\n",
    "- \"Playlist\"\n",
    "- \"PlaylistTrack\"\n",
    "- \"Track\"\n",
    "\n",
    "Business:\n",
    "\n",
    "- \"Customer\"\n",
    "- \"Employee\"\n",
    "- \"Invoice\"\n",
    "- \"InvoiceLine\""
   ]
  },
  {
   "cell_type": "code",
   "execution_count": null,
   "metadata": {},
   "outputs": [],
   "source": [
    "from langchain.chains.openai_tools import create_extraction_chain_pydantic\n",
    "\n",
    "system = f\"\"\"You will recieve a question.\n",
    "\n",
    "If the question is about **Music**, return **ALL** these tables:\n",
    "  - \"Album\"\n",
    "  - \"Artist\"\n",
    "  - \"Genre\"\n",
    "  - \"MediaType\"\n",
    "  - \"Playlist\"\n",
    "  - \"PlaylistTrack\"\n",
    "  - \"Track\"\n",
    "\n",
    "If the question is about **Business**, return **ALL** these tables:\n",
    "  - \"Customer\"\n",
    "  - \"Employee\"\n",
    "  - \"Invoice\"\n",
    "  - \"InvoiceLine\"\n",
    "\n",
    "If you are unsure, return the full list of all available tables for both Music and Business categories.\"\"\"\n",
    "table_chain = create_extraction_chain_pydantic(pydantic_schemas=Table, llm=table_extractor_llm, system_message=system)\n",
    "table_chain.invoke({\"input\": \"What are all the genres of Alanis Morisette songs\"})"
   ]
  },
  {
   "cell_type": "markdown",
   "metadata": {},
   "source": [
    "### **Strategy C:**\n",
    "\n",
    "- **Step 1: Define the category**"
   ]
  },
  {
   "cell_type": "code",
   "execution_count": 17,
   "metadata": {},
   "outputs": [],
   "source": [
    "from langchain.chains.openai_tools import create_extraction_chain_pydantic\n",
    "\n",
    "system = \"\"\"Return the names of the SQL tables that are relevant to the user question. \\\n",
    "The tables are:\n",
    "\n",
    "Music\n",
    "Business\"\"\"\n",
    "category_chain = create_extraction_chain_pydantic(pydantic_schemas=Table, llm=table_extractor_llm, system_message=system)"
   ]
  },
  {
   "cell_type": "code",
   "execution_count": 19,
   "metadata": {},
   "outputs": [
    {
     "data": {
      "text/plain": [
       "[Table(name='Music')]"
      ]
     },
     "execution_count": 19,
     "metadata": {},
     "output_type": "execute_result"
    }
   ],
   "source": [
    "category_chain.invoke({\"input\": \"What are all the genres of Alanis Morisette songs\"})"
   ]
  },
  {
   "cell_type": "markdown",
   "metadata": {},
   "source": [
    "- **Step 2: Execute the python function**"
   ]
  },
  {
   "cell_type": "code",
   "execution_count": 20,
   "metadata": {},
   "outputs": [
    {
     "data": {
      "text/plain": [
       "['Album', 'Artist', 'Genre', 'MediaType', 'Playlist', 'PlaylistTrack', 'Track']"
      ]
     },
     "execution_count": 20,
     "metadata": {},
     "output_type": "execute_result"
    }
   ],
   "source": [
    "def get_tables(categories: List[Table]) -> List[str]:\n",
    "    \"\"\"Maps category names to corresponding SQL table names.\n",
    "\n",
    "    Args:\n",
    "        categories (List[Table]): A list of `Table` objects representing different categories.\n",
    "\n",
    "    Returns:\n",
    "        List[str]: A list of SQL table names corresponding to the provided categories.\n",
    "    \"\"\"\n",
    "    tables = []\n",
    "    for category in categories:\n",
    "        if category.name == \"Music\":\n",
    "            tables.extend(\n",
    "                [\n",
    "                    \"Album\",\n",
    "                    \"Artist\",\n",
    "                    \"Genre\",\n",
    "                    \"MediaType\",\n",
    "                    \"Playlist\",\n",
    "                    \"PlaylistTrack\",\n",
    "                    \"Track\",\n",
    "                ]\n",
    "            )\n",
    "        elif category.name == \"Business\":\n",
    "            tables.extend([\"Customer\", \"Employee\", \"Invoice\", \"InvoiceLine\"])\n",
    "    return tables\n",
    "\n",
    "\n",
    "table_chain = category_chain | get_tables \n",
    "table_chain.invoke({\"input\": \"What are all the genres of Alanis Morisette songs\"})"
   ]
  },
  {
   "cell_type": "markdown",
   "metadata": {},
   "source": [
    "### **Final step:**\n",
    "\n",
    "**Attach the desired strategy to your SQL agent**"
   ]
  },
  {
   "cell_type": "code",
   "execution_count": 21,
   "metadata": {},
   "outputs": [],
   "source": [
    "from langchain_core.runnables import RunnablePassthrough\n",
    "from langchain.chains import create_sql_query_chain\n",
    "from operator import itemgetter\n",
    "\n",
    "query_chain = create_sql_query_chain(sql_agent_llm, db)\n",
    "# Convert \"question\" key to the \"input\" key expected by current table_chain.\n",
    "table_chain = {\"input\": itemgetter(\"question\")} | table_chain\n",
    "# Set table_names_to_use using table_chain.\n",
    "full_chain = RunnablePassthrough.assign(table_names_to_use=table_chain) | query_chain"
   ]
  },
  {
   "cell_type": "markdown",
   "metadata": {},
   "source": [
    "**Test the agent**"
   ]
  },
  {
   "cell_type": "code",
   "execution_count": 22,
   "metadata": {},
   "outputs": [
    {
     "name": "stdout",
     "output_type": "stream",
     "text": [
      "SELECT DISTINCT \"Genre\".\"Name\"\n",
      "FROM \"Genre\"\n",
      "JOIN \"Track\" ON \"Genre\".\"GenreId\" = \"Track\".\"GenreId\"\n",
      "JOIN \"Album\" ON \"Track\".\"AlbumId\" = \"Album\".\"AlbumId\"\n",
      "JOIN \"Artist\" ON \"Album\".\"ArtistId\" = \"Artist\".\"ArtistId\"\n",
      "WHERE \"Artist\".\"Name\" = 'Alanis Morissette'\n",
      "LIMIT 5;\n"
     ]
    }
   ],
   "source": [
    "query = full_chain.invoke(\n",
    "    {\"question\": \"What are all the genres of Alanis Morisette songs\"}\n",
    ")\n",
    "print(query)"
   ]
  },
  {
   "cell_type": "code",
   "execution_count": 23,
   "metadata": {},
   "outputs": [
    {
     "data": {
      "text/plain": [
       "\"[('Rock',)]\""
      ]
     },
     "execution_count": 23,
     "metadata": {},
     "output_type": "execute_result"
    },
    {
     "ename": "",
     "evalue": "",
     "output_type": "error",
     "traceback": [
      "\u001b[1;31mThe Kernel crashed while executing code in the current cell or a previous cell. \n",
      "\u001b[1;31mPlease review the code in the cell(s) to identify a possible cause of the failure. \n",
      "\u001b[1;31mClick <a href='https://aka.ms/vscodeJupyterKernelCrash'>here</a> for more info. \n",
      "\u001b[1;31mView Jupyter <a href='command:jupyter.viewOutput'>log</a> for further details."
     ]
    }
   ],
   "source": [
    "db.run(query)"
   ]
  },
  {
   "cell_type": "markdown",
   "metadata": {},
   "source": [
    "**Prepare the tool (Don't run the following cell)**"
   ]
  },
  {
   "cell_type": "code",
   "execution_count": null,
   "metadata": {},
   "outputs": [],
   "source": [
    "class ChinookSQLAgent:\n",
    "    \"\"\"\n",
    "    A specialized SQL agent that interacts with the Chinook SQL database using an LLM (Large Language Model).\n",
    "\n",
    "    The agent handles SQL queries by mapping user questions to relevant SQL tables based on categories like \"Music\"\n",
    "    and \"Business\". It uses an extraction chain to determine relevant tables based on the question and then\n",
    "    executes queries against the database using the appropriate tables.\n",
    "\n",
    "    Attributes:\n",
    "        sql_agent_llm (ChatOpenAI): The language model used for interpreting and interacting with the database.\n",
    "        db (SQLDatabase): The SQL database object, representing the Chinook database.\n",
    "        full_chain (Runnable): A chain of operations that maps user questions to SQL tables and executes queries.\n",
    "\n",
    "    Methods:\n",
    "        __init__: Initializes the agent by setting up the LLM, connecting to the SQL database, and creating query chains.\n",
    "\n",
    "    Args:\n",
    "        sqldb_directory (str): The directory where the Chinook SQLite database file is located.\n",
    "        llm (str): The name of the LLM model to use (e.g., \"gpt-3.5-turbo\").\n",
    "        llm_temperature (float): The temperature setting for the LLM, controlling the randomness of responses.\n",
    "    \"\"\"\n",
    "\n",
    "    def __init__(self, sqldb_directory: str, llm: str, llm_temerature: float) -> None:\n",
    "        \"\"\"Initializes the ChinookSQLAgent with the LLM and database connection.\n",
    "\n",
    "        Args:\n",
    "            sqldb_directory (str): The directory path to the SQLite database file.\n",
    "            llm (str): The LLM model identifier (e.g., \"gpt-3.5-turbo\").\n",
    "            llm_temerature (float): The temperature value for the LLM, determining the randomness of the model's output.\n",
    "        \"\"\"\n",
    "        self.sql_agent_llm = ChatOpenAI(\n",
    "            model=llm, temperature=llm_temerature)\n",
    "\n",
    "        self.db = SQLDatabase.from_uri(f\"sqlite:///{sqldb_directory}\")\n",
    "        print(self.db.get_usable_table_names())\n",
    "        category_chain_system = \"\"\"Return the names of the SQL tables that are relevant to the user question. \\\n",
    "        The tables are:\n",
    "\n",
    "        Music\n",
    "        Business\"\"\"\n",
    "        category_chain = create_extraction_chain_pydantic(\n",
    "            Table, self.sql_agent_llm, system_message=category_chain_system)\n",
    "        table_chain = category_chain | get_tables  # noqa\n",
    "        query_chain = create_sql_query_chain(self.sql_agent_llm, self.db)\n",
    "        # Convert \"question\" key to the \"input\" key expected by current table_chain.\n",
    "        table_chain = {\"input\": itemgetter(\"question\")} | table_chain\n",
    "        # Set table_names_to_use using table_chain.\n",
    "        self.full_chain = RunnablePassthrough.assign(\n",
    "            table_names_to_use=table_chain) | query_chain\n",
    "\n",
    "\n",
    "@tool\n",
    "def query_chinook_sqldb(query: str) -> str:\n",
    "    \"\"\"Query the Chinook SQL Database. Input should be a search query.\"\"\"\n",
    "    # Create an instance of ChinookSQLAgent\n",
    "    agent = ChinookSQLAgent(\n",
    "        sqldb_directory=TOOLS_CFG.chinook_sqldb_directory,\n",
    "        llm=TOOLS_CFG.chinook_sqlagent_llm,\n",
    "        llm_temerature=TOOLS_CFG.chinook_sqlagent_llm_temperature\n",
    "    )\n",
    "\n",
    "    query = agent.full_chain.invoke({\"question\": query})\n",
    "\n",
    "    return agent.db.run(query)"
   ]
  }
 ],
 "metadata": {
  "kernelspec": {
   "display_name": "rag-sqlagent",
   "language": "python",
   "name": "python3"
  },
  "language_info": {
   "codemirror_mode": {
    "name": "ipython",
    "version": 3
   },
   "file_extension": ".py",
   "mimetype": "text/x-python",
   "name": "python",
   "nbconvert_exporter": "python",
   "pygments_lexer": "ipython3",
   "version": "3.11.9"
  }
 },
 "nbformat": 4,
 "nbformat_minor": 2
}

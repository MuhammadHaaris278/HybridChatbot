{
 "cells": [
  {
   "cell_type": "code",
   "execution_count": null,
   "metadata": {},
   "outputs": [
    {
     "data": {
      "text/plain": [
       "True"
      ]
     },
     "execution_count": 34,
     "metadata": {},
     "output_type": "execute_result"
    }
   ],
   "source": [
    "import os\n",
    "from dotenv import load_dotenv\n",
    "from pyprojroot import here\n",
    "load_dotenv()\n",
    "os.environ['OPENAI_API_KEY'] = os.getenv('GITHUB_TOKEN')\n",
    "import httpx"
   ]
  },
  {
   "cell_type": "code",
   "execution_count": null,
   "metadata": {},
   "outputs": [],
   "source": [
    "os.environ['OPENAI_API_KEY'] = os.getenv('GITHUB_TOKEN')\n",
    "os.environ['TAVILY_API_KEY'] = os.getenv('TAVILY_API_KEY')"
   ]
  },
  {
   "cell_type": "markdown",
   "metadata": {},
   "source": [
    "**1.1 RAG tool design**"
   ]
  },
  {
   "cell_type": "code",
   "execution_count": null,
   "metadata": {},
   "outputs": [],
   "source": [
    "from langchain_qdrant import Qdrant\n",
    "from langchain_openai import OpenAIEmbeddings\n",
    "from langchain_core.tools import tool\n",
    "from qdrant_client import QdrantClient\n",
    "\n",
    "EMBEDDING_MODEL = 'text-embedding-3-small'\n",
    "VECTORDB_DIR = 'data/clinical_notes_vectordb'\n",
    "QDRANT_URL = None  # Set to a URL for remote Qdrant, or None for local\n",
    "K = 2\n",
    "\n",
    "@tool\n",
    "def lookup_clinical_notes(query: str)->str:\n",
    "    \"\"\"Search among clinical notes to check relevant information.\"\"\"\n",
    "    client = QdrantClient(url=QDRANT_URL, path=str(here(VECTORDB_DIR)) if not QDRANT_URL else None)\n",
    "    vectordb = Qdrant(\n",
    "        client=client,\n",
    "        collection_name='clinical-notes-qdrant',\n",
    "        embeddings=OpenAIEmbeddings(\n",
    "            model=EMBEDDING_MODEL,\n",
    "            base_url='https://models.github.ai/inference',\n",
    "            api_key=os.getenv('GITHUB_TOKEN')\n",
    "        )\n",
    "    )\n",
    "    docs = vectordb.similarity_search(query=query, k=K)\n",
    "    return '\\n\\n'.join([doc.page_content for doc in docs])\n",
    "\n",
    "from langgraph.checkpoint.memory import MemorySaver\n",
    "from langgraph.graph import StateGraph, START\n",
    "from langchain_openai import ChatOpenAI\n",
    "from agent_graph.tool_travel_sqlagent import query_travel_sqldb\n",
    "from agent_graph.tool_tavily_search import load_tavily_search_tool\n",
    "from agent_graph.load_tools_config import LoadToolsConfig\n",
    "from agent_graph.agent_backend import State, BasicToolNode, route_tools, plot_agent_schema\n",
    "\n",
    "TOOLS_CFG = LoadToolsConfig()\n",
    "\n",
    "primary_llm = ChatOpenAI(\n",
    "    model=TOOLS_CFG.primary_agent_llm,\n",
    "    temperature=TOOLS_CFG.primary_agent_llm_temperature,\n",
    "    base_url='https://models.github.ai/inference',\n",
    "    api_key=os.getenv('GITHUB_TOKEN')\n",
    ")\n",
    "graph_builder = StateGraph(State)\n",
    "# Load tools with their proper configs\n",
    "search_tool = load_tavily_search_tool(TOOLS_CFG.tavily_search_max_results)\n",
    "tools = [\n",
    "    search_tool,\n",
    "    lookup_clinical_notes,\n",
    "    query_travel_sqldb,\n",
    "]\n",
    "# Tell the LLM which tools it can call\n",
    "primary_llm_with_tools = ChatOpenAI(\n",
    "    base_url='https://models.github.ai/inference',\n",
    "    api_key=os.getenv('GITHUB_TOKEN'),\n",
    "    model='gpt-4o-mini'\n",
    ")\n",
    "\n",
    "def chatbot(state: State):\n",
    "    \"\"\"Executes the primary language model with tools bound and returns the generated message.\"\"\"\n",
    "    return {'messages': [primary_llm_with_tools.invoke(state['messages'])]}\n",
    "\n",
    "graph_builder.add_node('chatbot', chatbot)\n",
    "tool_node = BasicToolNode(\n",
    "    tools=[\n",
    "        search_tool,\n",
    "        lookup_clinical_notes,\n",
    "        query_travel_sqldb,\n",
    "    ])\n",
    "graph_builder.add_node('tools', tool_node)\n",
    "graph_builder.add_conditional_edges(\n",
    "    'chatbot',\n",
    "    route_tools,\n",
    "    {'tools': 'tools', '__end__': '__end__'},\n",
    ")\n",
    "graph_builder.add_edge('tools', 'chatbot')\n",
    "graph_builder.add_edge(START, 'chatbot')\n",
    "memory = MemorySaver()\n",
    "graph = graph_builder.compile(checkpointer=memory)\n",
    "plot_agent_schema(graph)"
   ]
  },
  {
   "cell_type": "markdown",
   "metadata": {},
   "source": [
    "**Test the graph**"
   ]
  },
  {
   "cell_type": "code",
   "execution_count": null,
   "metadata": {},
   "outputs": [],
   "source": [
    "config = {'configurable': {'thread_id': TOOLS_CFG.thread_id}}\n",
    "events = graph.stream(\n",
    "    {'messages': [('user', 'What are the symptoms mentioned in the clinical notes?')]}, config, stream_mode='values'\n",
    ")\n",
    "for event in events:\n",
    "    event['messages'][-1].pretty_print()"
   ]
  }
 ],
 "metadata": {
  "kernelspec": {
   "display_name": "venv",
   "language": "python",
   "name": "python3"
  },
  "language_info": {
   "codemirror_mode": {
    "name": "ipython",
    "version": 3
   },
   "file_extension": ".py",
   "mimetype": "text/x-python",
   "name": "python",
   "nbconvert_exporter": "python",
   "pygments_lexer": "ipython3",
   "version": "3.10.0"
  }
 },
 "nbformat": 4,
 "nbformat_minor": 2
}